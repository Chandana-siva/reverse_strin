{
 "cells": [
  {
   "cell_type": "code",
   "execution_count": 1,
   "id": "2466de74",
   "metadata": {},
   "outputs": [],
   "source": [
    "#reverse the string but with out changing the special character\n",
    "string=\"Test1ngLeet=code-Q!\"\n",
    "string_list=list(string)\n",
    "chars=[\"=\",'-','!']"
   ]
  },
  {
   "cell_type": "code",
   "execution_count": 2,
   "id": "9dbc4659",
   "metadata": {},
   "outputs": [],
   "source": [
    "def revstring(string):\n",
    "    remove_chars_string_list=[]\n",
    "    positions=[]\n",
    "    for i in range(len(string_list)):\n",
    "        if string_list[i] in chars:\n",
    "            positions.append(i)\n",
    "            continue\n",
    "        else:\n",
    "            remove_chars_string_list.append(string_list[i])\n",
    "# now reverse the remove_chars_string_list\n",
    "    reverse_chars_string_list=[]\n",
    "    for i in range(len(remove_chars_string_list)-1,-1,-1):\n",
    "        reverse_chars_string_list.append(remove_chars_string_list[i])\n",
    "# now check positions of chars in string_list\n",
    "\n",
    "    for i in range(len(positions)):\n",
    "        reverse_chars_string_list.insert(positions[i],chars[i])\n",
    "    return reverse_chars_string_list\n",
    "\n",
    " "
   ]
  },
  {
   "cell_type": "code",
   "execution_count": 7,
   "id": "3562814a",
   "metadata": {},
   "outputs": [
    {
     "name": "stdout",
     "output_type": "stream",
     "text": [
      "original str: Test1ngLeet=code-Q!\n",
      "reverse str : QedocteeLgn=1tse-T!\n"
     ]
    }
   ],
   "source": [
    "# calling the function\n",
    "print(\"original str:\",string)\n",
    "print(\"reverse str :\",''.join(revstring(string)))"
   ]
  }
 ],
 "metadata": {
  "kernelspec": {
   "display_name": "Python 3 (ipykernel)",
   "language": "python",
   "name": "python3"
  },
  "language_info": {
   "codemirror_mode": {
    "name": "ipython",
    "version": 3
   },
   "file_extension": ".py",
   "mimetype": "text/x-python",
   "name": "python",
   "nbconvert_exporter": "python",
   "pygments_lexer": "ipython3",
   "version": "3.9.13"
  }
 },
 "nbformat": 4,
 "nbformat_minor": 5
}
