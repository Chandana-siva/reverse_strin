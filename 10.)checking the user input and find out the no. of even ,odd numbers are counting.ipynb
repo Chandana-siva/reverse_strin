{
 "cells": [
  {
   "cell_type": "code",
   "execution_count": 10,
   "id": "6d630bc5",
   "metadata": {},
   "outputs": [],
   "source": [
    "def count(n):\n",
    "    even_count=0\n",
    "    odd_count=0\n",
    "    for i in range(n):\n",
    "        reg=int(input())\n",
    "        if reg%2==0:\n",
    "            even_count+=1\n",
    "        else:\n",
    "            odd_count+=1\n",
    "    return print(\"even count is :\",even_count,\"And\",\"odd count is : \",odd_count)"
   ]
  },
  {
   "cell_type": "code",
   "execution_count": 12,
   "id": "ed2f72fc",
   "metadata": {},
   "outputs": [
    {
     "name": "stdout",
     "output_type": "stream",
     "text": [
      "enter no of entries : 5\n",
      "1\n",
      "2\n",
      "3\n",
      "4\n",
      "5\n",
      "even count is : 2 And odd count is :  3\n"
     ]
    }
   ],
   "source": [
    "n=int(input(\"enter no of entries : \"))\n",
    "count(n)"
   ]
  }
 ],
 "metadata": {
  "kernelspec": {
   "display_name": "Python 3 (ipykernel)",
   "language": "python",
   "name": "python3"
  },
  "language_info": {
   "codemirror_mode": {
    "name": "ipython",
    "version": 3
   },
   "file_extension": ".py",
   "mimetype": "text/x-python",
   "name": "python",
   "nbconvert_exporter": "python",
   "pygments_lexer": "ipython3",
   "version": "3.9.13"
  }
 },
 "nbformat": 4,
 "nbformat_minor": 5
}
