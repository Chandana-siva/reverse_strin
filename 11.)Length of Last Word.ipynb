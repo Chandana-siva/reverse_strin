{
 "cells": [
  {
   "cell_type": "code",
   "execution_count": 33,
   "id": "eb0150cd",
   "metadata": {},
   "outputs": [],
   "source": [
    "def length_of_last_word(s):\n",
    "    # Split the string into words\n",
    "    words = s.split()\n",
    "\n",
    "    # Check if there are any words in the string\n",
    "    if len(words) == 0:\n",
    "        # If there are no words, return 0\n",
    "        return 0\n",
    "    else:\n",
    "        # If there are words, return the length of the last word\n",
    "        return len(words[-1])\n",
    "\n"
   ]
  },
  {
   "cell_type": "code",
   "execution_count": 34,
   "id": "cefac902",
   "metadata": {},
   "outputs": [
    {
     "name": "stdout",
     "output_type": "stream",
     "text": [
      "4\n"
     ]
    }
   ],
   "source": [
    "# Input string\n",
    "s = \"hai iam siva\"\n",
    "\n",
    "# Call the function and print the result\n",
    "print(length_of_last_word(s))\n"
   ]
  }
 ],
 "metadata": {
  "kernelspec": {
   "display_name": "Python 3 (ipykernel)",
   "language": "python",
   "name": "python3"
  },
  "language_info": {
   "codemirror_mode": {
    "name": "ipython",
    "version": 3
   },
   "file_extension": ".py",
   "mimetype": "text/x-python",
   "name": "python",
   "nbconvert_exporter": "python",
   "pygments_lexer": "ipython3",
   "version": "3.9.13"
  }
 },
 "nbformat": 4,
 "nbformat_minor": 5
}
