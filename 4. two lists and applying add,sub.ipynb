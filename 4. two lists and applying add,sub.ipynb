{
 "cells": [
  {
   "cell_type": "code",
   "execution_count": 1,
   "id": "1675cfb1",
   "metadata": {},
   "outputs": [],
   "source": [
    "# take 2 lists\n",
    "l1=[1,2,3,4,5]\n",
    "l2=[6,7,8,9,10]"
   ]
  },
  {
   "cell_type": "code",
   "execution_count": 20,
   "id": "cc721772",
   "metadata": {},
   "outputs": [],
   "source": [
    "# function (sub) by 2 in every element in the lists\n",
    "def sub(l1,l2):\n",
    "    result_l1=[]\n",
    "    result_l2=[]\n",
    "    for i in range(len(l1)):\n",
    "        result_l1.append(l1[i]-2)\n",
    "    for i in range(len(l2)):\n",
    "        result_l2.append(l2[i]-2)\n",
    "    return result_l1,result_l2\n",
    "\n",
    "# function (add) by 2 in every element in the lists\n",
    "def add(l1,l2):\n",
    "    result_l3=[]\n",
    "    result_l4=[]\n",
    "    for i in range(len(l1)):\n",
    "        result_l3.append(l1[i]+2)\n",
    "    for i in range(len(l2)):\n",
    "        result_l4.append(l2[i]+2)\n",
    "    return result_l3,result_l4\n"
   ]
  },
  {
   "cell_type": "code",
   "execution_count": 24,
   "id": "de7f5f15",
   "metadata": {},
   "outputs": [
    {
     "name": "stdout",
     "output_type": "stream",
     "text": [
      "([-1, 0, 1, 2, 3], [4, 5, 6, 7, 8])\n",
      "([8, 9, 10, 11, 12], [8, 9, 10, 11, 12])\n"
     ]
    }
   ],
   "source": [
    "# calling the function\n",
    "print(sub(l1,l2))\n",
    "print(add(l2,l2))"
   ]
  }
 ],
 "metadata": {
  "kernelspec": {
   "display_name": "Python 3 (ipykernel)",
   "language": "python",
   "name": "python3"
  },
  "language_info": {
   "codemirror_mode": {
    "name": "ipython",
    "version": 3
   },
   "file_extension": ".py",
   "mimetype": "text/x-python",
   "name": "python",
   "nbconvert_exporter": "python",
   "pygments_lexer": "ipython3",
   "version": "3.9.13"
  }
 },
 "nbformat": 4,
 "nbformat_minor": 5
}
