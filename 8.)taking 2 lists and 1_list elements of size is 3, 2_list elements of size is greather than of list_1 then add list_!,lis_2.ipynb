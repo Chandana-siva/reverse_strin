{
 "cells": [
  {
   "cell_type": "code",
   "execution_count": 12,
   "id": "ea01af87",
   "metadata": {},
   "outputs": [],
   "source": [
    "#take two lists and give elements, 1 list size = 5, 2 list size=4 and add\n",
    "# first checking the size og length and take only one list\n",
    "\n",
    "def length(list_1,list_2):\n",
    "    res=[]\n",
    "    for i in range(len(list_1)):\n",
    "        res.append(list_1[i]+list_2[i])\n",
    "    return res"
   ]
  },
  {
   "cell_type": "code",
   "execution_count": 15,
   "id": "fa673061",
   "metadata": {},
   "outputs": [
    {
     "name": "stdout",
     "output_type": "stream",
     "text": [
      "enter size of the list3\n",
      "enter the elements of list_1 :1\n",
      "enter the elements of list_1 :2\n",
      "enter the elements of list_1 :3\n",
      "enter size of the list7\n",
      "enter the elements of list_1 :1\n",
      "enter the elements of list_1 :2\n",
      "enter the elements of list_1 :3\n",
      "enter the elements of list_1 :4\n",
      "enter the elements of list_1 :5\n",
      "enter the elements of list_1 :6\n",
      "enter the elements of list_1 :7\n"
     ]
    }
   ],
   "source": [
    "a=int(input(\"enter size of the list_1\"))\n",
    "list_1=[]\n",
    "for i in range(1,a+1):\n",
    "    list_1.append(int(input(\"enter the elements of list_1 :\")))\n",
    "b=int(input(\"enter size of the list_2\"))\n",
    "list_2=[]\n",
    "for i in range(1,b+1):\n",
    "    list_2.append(int(input(\"enter the elements of list_1 :\")))"
   ]
  },
  {
   "cell_type": "code",
   "execution_count": 17,
   "id": "f7b4ec50",
   "metadata": {},
   "outputs": [
    {
     "name": "stdout",
     "output_type": "stream",
     "text": [
      "[1, 2, 3] [1, 2, 3, 4, 5, 6, 7]\n"
     ]
    },
    {
     "data": {
      "text/plain": [
       "[2, 4, 6]"
      ]
     },
     "execution_count": 17,
     "metadata": {},
     "output_type": "execute_result"
    }
   ],
   "source": [
    "print(list_1,list_2)\n",
    "length(list_1,list_2)"
   ]
  }
 ],
 "metadata": {
  "kernelspec": {
   "display_name": "Python 3 (ipykernel)",
   "language": "python",
   "name": "python3"
  },
  "language_info": {
   "codemirror_mode": {
    "name": "ipython",
    "version": 3
   },
   "file_extension": ".py",
   "mimetype": "text/x-python",
   "name": "python",
   "nbconvert_exporter": "python",
   "pygments_lexer": "ipython3",
   "version": "3.9.13"
  }
 },
 "nbformat": 4,
 "nbformat_minor": 5
}
