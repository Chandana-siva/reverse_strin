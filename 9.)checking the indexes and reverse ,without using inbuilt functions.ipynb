{
 "cells": [
  {
   "cell_type": "code",
   "execution_count": null,
   "id": "a674435a",
   "metadata": {},
   "outputs": [],
   "source": [
    "# iam taking two lists, in the first list is reverse the string of \"o\" th index\n",
    "#                        in the second list is reverse the whole string of the list"
   ]
  },
  {
   "cell_type": "code",
   "execution_count": 2,
   "id": "aa7c6272",
   "metadata": {},
   "outputs": [],
   "source": [
    "a=[\"siva\",\"ram\",\"hello\"]\n",
    "b=[\"karthik\",\"soma\",\"puri\"]"
   ]
  },
  {
   "cell_type": "code",
   "execution_count": 3,
   "id": "14d75915",
   "metadata": {},
   "outputs": [
    {
     "data": {
      "text/plain": [
       "['h', 'r', 's', 'puri', 'soma', 'karthik']"
      ]
     },
     "execution_count": 3,
     "metadata": {},
     "output_type": "execute_result"
    }
   ],
   "source": [
    "\n",
    "def reverse(a,b):\n",
    "    c=[]\n",
    "    for i in range(len(a)-1,-1,-1):\n",
    "        c.append(a[i][0])\n",
    "    for j in range(len(b)-1,-1,-1):\n",
    "        c.append(b[j])\n",
    "    return c\n",
    "reverse(a,b)"
   ]
  }
 ],
 "metadata": {
  "kernelspec": {
   "display_name": "Python 3 (ipykernel)",
   "language": "python",
   "name": "python3"
  },
  "language_info": {
   "codemirror_mode": {
    "name": "ipython",
    "version": 3
   },
   "file_extension": ".py",
   "mimetype": "text/x-python",
   "name": "python",
   "nbconvert_exporter": "python",
   "pygments_lexer": "ipython3",
   "version": "3.9.13"
  }
 },
 "nbformat": 4,
 "nbformat_minor": 5
}
