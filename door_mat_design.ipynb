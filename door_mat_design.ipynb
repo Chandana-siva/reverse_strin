{
 "cells": [
  {
   "cell_type": "code",
   "execution_count": 2,
   "id": "d429c33a",
   "metadata": {},
   "outputs": [
    {
     "name": "stdout",
     "output_type": "stream",
     "text": [
      "7 21\n",
      "---------.|.---------\n",
      "------.|..|..|.------\n",
      "---.|..|..|..|..|.---\n",
      "-------WELCOME-------\n",
      "---.|..|..|..|..|.---\n",
      "------.|..|..|.------\n",
      "---------.|.---------\n"
     ]
    }
   ],
   "source": [
    "# design the door mat \n",
    "def print_door_mat(N, M):\n",
    "    pattern = []\n",
    "    for i in range(N//2):\n",
    "        row = '.|.' * (2 * i + 1)\n",
    "        centered_row = row.center(M, '-')\n",
    "        pattern.append(centered_row)\n",
    "    \n",
    "    welcome = 'WELCOME'.center(M,'-')\n",
    "    \n",
    "    door_mat = pattern + [welcome] + pattern[::-1]\n",
    "    \n",
    "    for line in door_mat:\n",
    "        print(line)\n",
    "\n",
    "\n",
    "N, M = map(int, input().split())\n",
    "print_door_mat(N, M)\n"
   ]
  }
 ],
 "metadata": {
  "kernelspec": {
   "display_name": "Python 3 (ipykernel)",
   "language": "python",
   "name": "python3"
  },
  "language_info": {
   "codemirror_mode": {
    "name": "ipython",
    "version": 3
   },
   "file_extension": ".py",
   "mimetype": "text/x-python",
   "name": "python",
   "nbconvert_exporter": "python",
   "pygments_lexer": "ipython3",
   "version": "3.9.13"
  }
 },
 "nbformat": 4,
 "nbformat_minor": 5
}
