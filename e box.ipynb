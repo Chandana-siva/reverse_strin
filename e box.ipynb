{
 "cells": [
  {
   "cell_type": "markdown",
   "id": "5d0b9fee",
   "metadata": {},
   "source": [
    "# desktop => e box => count problem"
   ]
  },
  {
   "cell_type": "code",
   "execution_count": null,
   "id": "62a19ba6",
   "metadata": {},
   "outputs": [],
   "source": [
    "n=int(input(\"enter no of entries : \"))\n",
    "even_count=0\n",
    "odd_count=0\n",
    "for i in range(n):\n",
    "    reg=int(input())\n",
    "    if reg%2==0:\n",
    "        even_count+=1\n",
    "    else:\n",
    "        odd_count+=1\n",
    "print(even_count,odd_count)"
   ]
  },
  {
   "cell_type": "markdown",
   "id": "c96ec3f9",
   "metadata": {},
   "source": [
    "# desktop => e box => team event"
   ]
  },
  {
   "cell_type": "code",
   "execution_count": 16,
   "id": "8cdcf61a",
   "metadata": {},
   "outputs": [
    {
     "name": "stdout",
     "output_type": "stream",
     "text": [
      "9\n",
      "invalid\n"
     ]
    }
   ],
   "source": [
    "n=int(input())\n",
    "if n<10:\n",
    "    print(\"invalid\")\n",
    "else:\n",
    "    k=str(n)\n",
    "    a=int(k[0])\n",
    "    b=int(k[-1])\n",
    "    d=b-a\n",
    "    print(d)"
   ]
  },
  {
   "cell_type": "code",
   "execution_count": null,
   "id": "8b0710a3",
   "metadata": {},
   "outputs": [],
   "source": []
  }
 ],
 "metadata": {
  "kernelspec": {
   "display_name": "Python 3 (ipykernel)",
   "language": "python",
   "name": "python3"
  },
  "language_info": {
   "codemirror_mode": {
    "name": "ipython",
    "version": 3
   },
   "file_extension": ".py",
   "mimetype": "text/x-python",
   "name": "python",
   "nbconvert_exporter": "python",
   "pygments_lexer": "ipython3",
   "version": "3.9.13"
  }
 },
 "nbformat": 4,
 "nbformat_minor": 5
}
