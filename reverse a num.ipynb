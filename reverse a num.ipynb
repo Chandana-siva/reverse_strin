{
 "cells": [
  {
   "cell_type": "code",
   "execution_count": 8,
   "id": "ac19a2e1",
   "metadata": {},
   "outputs": [],
   "source": [
    "def revnum(num):\n",
    "\n",
    "\n",
    "# Initialize a variable to store the reversed number\n",
    "    reversed_num = 0\n",
    "\n",
    "# Iterate until the input number becomes 0\n",
    "    while num > 0:\n",
    "        digit = num % 10\n",
    "        reversed_num = reversed_num * 10 + digit\n",
    "         # Remove the last digit from the original number\n",
    "        num //= 10\n",
    "    return reversed_num\n"
   ]
  },
  {
   "cell_type": "code",
   "execution_count": 9,
   "id": "0d143229",
   "metadata": {},
   "outputs": [
    {
     "name": "stdout",
     "output_type": "stream",
     "text": [
      "enter number123\n"
     ]
    },
    {
     "data": {
      "text/plain": [
       "321"
      ]
     },
     "execution_count": 9,
     "metadata": {},
     "output_type": "execute_result"
    }
   ],
   "source": [
    "num=int(input(\"enter number\"))\n",
    "revnum(num)"
   ]
  }
 ],
 "metadata": {
  "kernelspec": {
   "display_name": "Python 3 (ipykernel)",
   "language": "python",
   "name": "python3"
  },
  "language_info": {
   "codemirror_mode": {
    "name": "ipython",
    "version": 3
   },
   "file_extension": ".py",
   "mimetype": "text/x-python",
   "name": "python",
   "nbconvert_exporter": "python",
   "pygments_lexer": "ipython3",
   "version": "3.9.13"
  }
 },
 "nbformat": 4,
 "nbformat_minor": 5
}
